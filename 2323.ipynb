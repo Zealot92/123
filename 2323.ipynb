{
 "cells": [
  {
   "cell_type": "code",
   "execution_count": null,
   "id": "c225da93",
   "metadata": {},
   "outputs": [],
   "source": [
    "from bs4 import BeautifulSoup\n",
    "import requests\n",
    "import pandas as pd\n",
    "from tabulate import tabulate\n",
    "import dateparser\n",
    "def parser(day = 0)\n",
    "url = 'https://www.roszakupki.ru/news/'\n",
    "page = requests.get(url)\n",
    "tree = BeautifulSoup(page.content, 'html.parser')\n",
    "news = tree.find('div', {'class': 'ev_news'})\n",
    "d = dict()\n",
    "for new in news[0:len(news)]:\n",
    "    n = new.find('p').text.strip()\n",
    "    data = new.find('span').text.strip()\n",
    "    data = dateparser.parse(data)\n",
    "    d[data] = n\n",
    "df = pd.DataFrame(d,index = [1])\n",
    "df = df.transpose()\n",
    "df.reset_index(inplace = True)\n",
    "df = df.rename(columns = {'index':'data', 1:'text'})\n",
    "#df.values[0][1]\n"
   ]
  },
  {
   "cell_type": "code",
   "execution_count": 21,
   "id": "9f41c435",
   "metadata": {},
   "outputs": [
    {
     "data": {
      "text/plain": [
       "('20 января 2022 г.\\n\\nВместо постановления Правительства РФ от 28.11.2013 № 1085, которым были утверждены Правила оценки заявок, с 1 января 2022 г. вступило в силу постановление Правительства РФ от 31.12.2021 № 2604, которым утверждено новое Положение об оценке заявок по Закону № 44-ФЗ.\\nВ очередном выпуске видеорубрики «Просто о сложном» старший юрист Экспертного центра Института госзакупок Снежана Постовалова рассказывает о применении нового Положения, в частности, рассматривает примеры расчетов при оценке заявок по критерию «цена контракта».',\n",
       " '20 января 2022 г.Вместо пос')"
      ]
     },
     "execution_count": 21,
     "metadata": {},
     "output_type": "execute_result"
    }
   ],
   "source": [
    "from bs4 import BeautifulSoup\n",
    "import requests\n",
    "import pandas as pd\n",
    "from tabulate import tabulate\n",
    "import dateparser\n",
    "def parser(back_post_id):\n",
    "    url = 'https://www.roszakupki.ru/news/'\n",
    "    page = requests.get(url)\n",
    "    tree = BeautifulSoup(page.content, 'html.parser')\n",
    "    post = tree.find('div',class_ = 'ev_news')\n",
    "    data = post.find('span',class_ = 'date date--big').text.strip()\n",
    "    text = post.find('p',class_ = 'ev_news_txt').text.strip()\n",
    "    post_id = data + text[:10] \n",
    "    if post_id != back_post_id:\n",
    "        return f\"{data}\\n\\n{text}\", post_id\n",
    "    else:\n",
    "        return None, post_id\n",
    "parser(1)\n",
    "            "
   ]
  },
  {
   "cell_type": "code",
   "execution_count": null,
   "id": "1798fa42",
   "metadata": {},
   "outputs": [],
   "source": []
  },
  {
   "cell_type": "code",
   "execution_count": null,
   "id": "5f53242a",
   "metadata": {},
   "outputs": [],
   "source": []
  }
 ],
 "metadata": {
  "kernelspec": {
   "display_name": "Python 3 (ipykernel)",
   "language": "python",
   "name": "python3"
  },
  "language_info": {
   "codemirror_mode": {
    "name": "ipython",
    "version": 3
   },
   "file_extension": ".py",
   "mimetype": "text/x-python",
   "name": "python",
   "nbconvert_exporter": "python",
   "pygments_lexer": "ipython3",
   "version": "3.9.7"
  }
 },
 "nbformat": 4,
 "nbformat_minor": 5
}
