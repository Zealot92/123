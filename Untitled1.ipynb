{
 "cells": [
  {
   "cell_type": "code",
   "execution_count": null,
   "id": "bd660061",
   "metadata": {},
   "outputs": [],
   "source": [
    "def send_message_to_telegram(text, bot_token, chat_id):\n",
    "    json_ = None\n",
    "    try:\n",
    "        data = {\n",
    "            'chat_id': chat_id,\n",
    "            'text': text\n",
    "        }\n",
    "        method = 'sendMessage'\n",
    "        r = requests.post(url=f'https://api.telegram.org/bot{bot_token}/{method}',\n",
    "                          data=data)\n",
    "        json_ = r.json()\n",
    "        r.raise_for_status()\n",
    "        return json_['ok']\n",
    "    except requests.exceptions.HTTPError as e:\n",
    "        raise Exception(f'Ошибка телеграм: '\n",
    "                        f'{json_[\"error_code\"]} '\n",
    "                        f'\"{json_[\"description\"]}\"')"
   ]
  }
 ],
 "metadata": {
  "kernelspec": {
   "display_name": "Python 3 (ipykernel)",
   "language": "python",
   "name": "python3"
  },
  "language_info": {
   "codemirror_mode": {
    "name": "ipython",
    "version": 3
   },
   "file_extension": ".py",
   "mimetype": "text/x-python",
   "name": "python",
   "nbconvert_exporter": "python",
   "pygments_lexer": "ipython3",
   "version": "3.9.7"
  }
 },
 "nbformat": 4,
 "nbformat_minor": 5
}
