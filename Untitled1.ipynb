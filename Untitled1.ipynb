class Warrior:
    def __init__(self, hp=100, attack=200):
        self.hp = hp
        self.attack = attack
    def strike(self,target):
        while self.hp >0 and target.hp > 0:
            if randint(0,1) == 1:
                return target.hp - self.attack
                print(f'Warrior: {self.name} attacks: {target.name}')
            else:
                return self.hp - target.attack
                print(f'Warrior: {target.name} attacks: {self.name}')

Zeratul = Warrior()
Karrigan = Warrior()
Zeratul.strike(Karrigan)
