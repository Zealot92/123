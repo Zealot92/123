def format_duration(sec):
    years_s = 3600*24*365
    days_s = 3600*24
    hours_s = 3600
    minutes_s = 60
    if seconds == 0:
    years = sec//years_s
    days = sec%years_s//days_s
    hours = (sec-years*years_s-days*days_s)//hours_s
    minutes = (sec-years*years_s-days*days_s-hours*hours_s)//minutes_s
    seconds = sec%60
        return 'now'
    else:
        return '%d years, %d days, %d hours, %d minutes, %d seconds' %(sec//years_s,sec%years_s//days_s,(sec-years*years_s-days*days_s)//hours_s,(sec-years*years_s-days*days_s-hours*hours_s)//minutes_s)
