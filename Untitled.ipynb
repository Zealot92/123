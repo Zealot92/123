from random import random



# Для того чтобы класс стал итератором, необходимо внутри класса определить функцию next

class RandomIterator:
    def __init__(self,k):
        self.k = k # кол-во случайных чисел для перебора итератором
        self.i = 0 # кол-во перечисленных итератором случайных чисел
        
    def __next__(self):
        if self.i <
        return random()


x = RandomIterator()
print(next(x)) #когда вызываем функцию next от объекта x - это эквив-но записи "вызвать метод next от x" (x.__next__())
# х является итератором, когда у него есть метод next
